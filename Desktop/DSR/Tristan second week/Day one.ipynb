{
 "cells": [
  {
   "cell_type": "code",
   "execution_count": 33,
   "metadata": {},
   "outputs": [
    {
     "name": "stderr",
     "output_type": "stream",
     "text": [
      "Using TensorFlow backend.\n"
     ]
    }
   ],
   "source": [
    "import warnings\n",
    "warnings.filterwarnings('ignore')\n",
    "from keras import models, layers\n",
    "from keras import applications"
   ]
  },
  {
   "cell_type": "code",
   "execution_count": 34,
   "metadata": {},
   "outputs": [],
   "source": [
    "vgg19 = applications.VGG19()   # the default input size for this model is 224x224"
   ]
  },
  {
   "cell_type": "code",
   "execution_count": 35,
   "metadata": {},
   "outputs": [
    {
     "name": "stdout",
     "output_type": "stream",
     "text": [
      "_________________________________________________________________\n",
      "Layer (type)                 Output Shape              Param #   \n",
      "=================================================================\n",
      "input_1 (InputLayer)         (None, 224, 224, 3)       0         \n",
      "_________________________________________________________________\n",
      "block1_conv1 (Conv2D)        (None, 224, 224, 64)      1792      \n",
      "_________________________________________________________________\n",
      "block1_conv2 (Conv2D)        (None, 224, 224, 64)      36928     \n",
      "_________________________________________________________________\n",
      "block1_pool (MaxPooling2D)   (None, 112, 112, 64)      0         \n",
      "_________________________________________________________________\n",
      "block2_conv1 (Conv2D)        (None, 112, 112, 128)     73856     \n",
      "_________________________________________________________________\n",
      "block2_conv2 (Conv2D)        (None, 112, 112, 128)     147584    \n",
      "_________________________________________________________________\n",
      "block2_pool (MaxPooling2D)   (None, 56, 56, 128)       0         \n",
      "_________________________________________________________________\n",
      "block3_conv1 (Conv2D)        (None, 56, 56, 256)       295168    \n",
      "_________________________________________________________________\n",
      "block3_conv2 (Conv2D)        (None, 56, 56, 256)       590080    \n",
      "_________________________________________________________________\n",
      "block3_conv3 (Conv2D)        (None, 56, 56, 256)       590080    \n",
      "_________________________________________________________________\n",
      "block3_conv4 (Conv2D)        (None, 56, 56, 256)       590080    \n",
      "_________________________________________________________________\n",
      "block3_pool (MaxPooling2D)   (None, 28, 28, 256)       0         \n",
      "_________________________________________________________________\n",
      "block4_conv1 (Conv2D)        (None, 28, 28, 512)       1180160   \n",
      "_________________________________________________________________\n",
      "block4_conv2 (Conv2D)        (None, 28, 28, 512)       2359808   \n",
      "_________________________________________________________________\n",
      "block4_conv3 (Conv2D)        (None, 28, 28, 512)       2359808   \n",
      "_________________________________________________________________\n",
      "block4_conv4 (Conv2D)        (None, 28, 28, 512)       2359808   \n",
      "_________________________________________________________________\n",
      "block4_pool (MaxPooling2D)   (None, 14, 14, 512)       0         \n",
      "_________________________________________________________________\n",
      "block5_conv1 (Conv2D)        (None, 14, 14, 512)       2359808   \n",
      "_________________________________________________________________\n",
      "block5_conv2 (Conv2D)        (None, 14, 14, 512)       2359808   \n",
      "_________________________________________________________________\n",
      "block5_conv3 (Conv2D)        (None, 14, 14, 512)       2359808   \n",
      "_________________________________________________________________\n",
      "block5_conv4 (Conv2D)        (None, 14, 14, 512)       2359808   \n",
      "_________________________________________________________________\n",
      "block5_pool (MaxPooling2D)   (None, 7, 7, 512)         0         \n",
      "_________________________________________________________________\n",
      "flatten (Flatten)            (None, 25088)             0         \n",
      "_________________________________________________________________\n",
      "fc1 (Dense)                  (None, 4096)              102764544 \n",
      "_________________________________________________________________\n",
      "fc2 (Dense)                  (None, 4096)              16781312  \n",
      "_________________________________________________________________\n",
      "predictions (Dense)          (None, 1000)              4097000   \n",
      "=================================================================\n",
      "Total params: 143,667,240\n",
      "Trainable params: 143,667,240\n",
      "Non-trainable params: 0\n",
      "_________________________________________________________________\n"
     ]
    }
   ],
   "source": [
    "vgg19.summary()"
   ]
  },
  {
   "cell_type": "code",
   "execution_count": 36,
   "metadata": {},
   "outputs": [
    {
     "data": {
      "text/plain": [
       "6.0"
      ]
     },
     "execution_count": 36,
     "metadata": {},
     "output_type": "execute_result"
    }
   ],
   "source": [
    "224*224*3/25088"
   ]
  },
  {
   "cell_type": "code",
   "execution_count": 38,
   "metadata": {},
   "outputs": [
    {
     "name": "stdout",
     "output_type": "stream",
     "text": [
      "_________________________________________________________________\n",
      "Layer (type)                 Output Shape              Param #   \n",
      "=================================================================\n",
      "input_1 (InputLayer)         (None, 224, 224, 3)       0         \n",
      "_________________________________________________________________\n",
      "block1_conv1 (Conv2D)        (None, 224, 224, 64)      1792      \n",
      "_________________________________________________________________\n",
      "block1_conv2 (Conv2D)        (None, 224, 224, 64)      36928     \n",
      "_________________________________________________________________\n",
      "block1_pool (MaxPooling2D)   (None, 112, 112, 64)      0         \n",
      "_________________________________________________________________\n",
      "block2_conv1 (Conv2D)        (None, 112, 112, 128)     73856     \n",
      "_________________________________________________________________\n",
      "block2_conv2 (Conv2D)        (None, 112, 112, 128)     147584    \n",
      "_________________________________________________________________\n",
      "block2_pool (MaxPooling2D)   (None, 56, 56, 128)       0         \n",
      "_________________________________________________________________\n",
      "block3_conv1 (Conv2D)        (None, 56, 56, 256)       295168    \n",
      "_________________________________________________________________\n",
      "block3_conv2 (Conv2D)        (None, 56, 56, 256)       590080    \n",
      "_________________________________________________________________\n",
      "block3_conv3 (Conv2D)        (None, 56, 56, 256)       590080    \n",
      "_________________________________________________________________\n",
      "block3_conv4 (Conv2D)        (None, 56, 56, 256)       590080    \n",
      "_________________________________________________________________\n",
      "block3_pool (MaxPooling2D)   (None, 28, 28, 256)       0         \n",
      "_________________________________________________________________\n",
      "block4_conv1 (Conv2D)        (None, 28, 28, 512)       1180160   \n",
      "_________________________________________________________________\n",
      "block4_conv2 (Conv2D)        (None, 28, 28, 512)       2359808   \n",
      "_________________________________________________________________\n",
      "block4_conv3 (Conv2D)        (None, 28, 28, 512)       2359808   \n",
      "_________________________________________________________________\n",
      "block4_conv4 (Conv2D)        (None, 28, 28, 512)       2359808   \n",
      "_________________________________________________________________\n",
      "block4_pool (MaxPooling2D)   (None, 14, 14, 512)       0         \n",
      "_________________________________________________________________\n",
      "block5_conv1 (Conv2D)        (None, 14, 14, 512)       2359808   \n",
      "_________________________________________________________________\n",
      "block5_conv2 (Conv2D)        (None, 14, 14, 512)       2359808   \n",
      "_________________________________________________________________\n",
      "block5_conv3 (Conv2D)        (None, 14, 14, 512)       2359808   \n",
      "_________________________________________________________________\n",
      "block5_conv4 (Conv2D)        (None, 14, 14, 512)       2359808   \n",
      "=================================================================\n",
      "Total params: 20,024,384\n",
      "Trainable params: 20,024,384\n",
      "Non-trainable params: 0\n",
      "_________________________________________________________________\n"
     ]
    }
   ],
   "source": [
    "vgg19.layers.pop()\n",
    "vgg19.layers.pop()\n",
    "vgg19.layers.pop()\n",
    "vgg19.summary()"
   ]
  },
  {
   "cell_type": "code",
   "execution_count": null,
   "metadata": {},
   "outputs": [],
   "source": []
  },
  {
   "cell_type": "code",
   "execution_count": 39,
   "metadata": {},
   "outputs": [
    {
     "name": "stdout",
     "output_type": "stream",
     "text": [
      "2000\n",
      "cats_vs_dogs_small/train/cats/cat.163.jpg\n"
     ]
    }
   ],
   "source": [
    "%matplotlib inline\n",
    "import numpy as np\n",
    "import matplotlib.pyplot as plt\n",
    "import glob2 as glob\n",
    "import random\n",
    "\n",
    "glob_search_path = \"cats_vs_dogs_small/train/**/*.jpg\"\n",
    "paths = glob.glob(glob_search_path)\n",
    "print(len(paths))\n",
    "\n",
    "\n",
    "path=random.choice(paths)\n",
    "\n",
    "print(path)\n"
   ]
  },
  {
   "cell_type": "code",
   "execution_count": 40,
   "metadata": {
    "scrolled": true
   },
   "outputs": [
    {
     "name": "stdout",
     "output_type": "stream",
     "text": [
      "<class 'numpy.ndarray'> (224, 224, 3)\n"
     ]
    },
    {
     "data": {
      "image/png": "[encoded data removed]",
      "text/plain": [
       "<Figure size 432x288 with 1 Axes>"
      ]
     },
     "metadata": {
      "needs_background": "light"
     },
     "output_type": "display_data"
    }
   ],
   "source": [
    "from PIL import Image\n",
    "\n",
    "pic = Image.open(path)\n",
    "pic = pic.resize((224,224))\n",
    "pic = np.array(pic)\n",
    "#pic = np.resize(pic,(224,224,3))\n",
    "print(type(pic),pic.shape)\n",
    "\n",
    "plt.imshow(pic)\n",
    "plt.show()\n",
    "plt.close()"
   ]
  },
  {
   "cell_type": "code",
   "execution_count": 41,
   "metadata": {},
   "outputs": [],
   "source": [
    "import cv2\n",
    "img = cv2.imread('messi5.jpg',0)\n",
    "plt.show(img)"
   ]
  },
  {
   "cell_type": "code",
   "execution_count": 42,
   "metadata": {
    "collapsed": true
   },
   "outputs": [
    {
     "name": "stdout",
     "output_type": "stream",
     "text": [
      "[[6.17371256e-07 2.33587480e-06 7.35781505e-05 2.40562513e-05\n",
      "  7.96699715e-06 2.94596225e-06 1.98207408e-06 3.84652481e-07\n",
      "  9.07440551e-07 6.67763800e-08 1.76847095e-07 1.36173924e-07\n",
      "  9.87982844e-07 1.68156282e-06 1.43392060e-06 7.75001979e-07\n",
      "  5.81389827e-07 7.57655798e-05 2.30254841e-06 3.22193068e-06\n",
      "  1.86742784e-06 4.41332304e-07 8.25862543e-08 5.19707669e-07\n",
      "  1.66901074e-07 1.31609914e-08 5.14105949e-08 1.17025483e-08\n",
      "  4.98162187e-08 1.39161114e-06 7.59671479e-07 7.72663270e-07\n",
      "  6.83260453e-08 1.53650728e-06 2.05998344e-06 3.60128325e-07\n",
      "  3.78787422e-06 4.05976550e-07 7.64430510e-08 4.33355171e-06\n",
      "  9.10061317e-07 2.06584915e-07 4.03575086e-07 3.97326039e-06\n",
      "  4.39820553e-07 6.13240729e-07 2.90610637e-06 7.59938132e-07\n",
      "  1.68699842e-06 6.04739725e-08 1.26229850e-07 8.20414698e-06\n",
      "  2.98918991e-07 6.19113720e-08 5.32973729e-07 8.37327491e-07\n",
      "  1.29894332e-07 1.59168145e-08 1.40968993e-07 3.10463037e-07\n",
      "  7.31261139e-07 4.80187396e-07 7.32232479e-07 3.19595358e-07\n",
      "  1.15842693e-06 2.72601461e-08 3.66545436e-07 4.36664266e-07\n",
      "  6.22432594e-08 5.45588364e-07 2.22774176e-07 1.03431159e-06\n",
      "  3.81537888e-07 8.70823484e-08 2.54160739e-07 4.97602173e-07\n",
      "  1.70286256e-07 2.26058475e-07 2.88819848e-07 9.30907447e-07\n",
      "  4.33794099e-07 2.21013977e-07 2.57326974e-07 1.25131351e-07\n",
      "  7.09034339e-07 3.86401837e-07 3.91154288e-07 1.97975332e-05\n",
      "  7.48677030e-06 1.22895381e-06 6.25099688e-07 1.25821572e-07\n",
      "  1.10581787e-07 5.04587717e-07 3.82029782e-07 1.39646446e-07\n",
      "  2.93334239e-07 9.47609564e-08 8.56857962e-09 7.97716098e-08\n",
      "  2.02292174e-08 6.64419915e-08 1.39625655e-07 2.59288709e-06\n",
      "  2.89774164e-07 1.03266211e-05 2.22904579e-04 2.90080948e-06\n",
      "  2.52213880e-07 1.77823750e-07 3.84745107e-08 1.34428467e-06\n",
      "  3.49423390e-05 6.42134069e-07 4.94346068e-07 2.58564903e-08\n",
      "  3.04715648e-08 2.37361601e-05 2.66950815e-06 5.15235854e-08\n",
      "  9.17253207e-09 2.11943458e-07 2.64360096e-06 8.21725905e-07\n",
      "  6.27194777e-06 6.49427079e-07 1.80404845e-06 1.09578746e-08\n",
      "  9.95218929e-09 7.18580466e-08 1.83408737e-08 4.08672378e-07\n",
      "  1.05205785e-07 5.46418093e-08 4.18380743e-08 6.35511777e-09\n",
      "  4.15122685e-07 1.04308050e-07 8.98445478e-07 9.71393632e-09\n",
      "  9.48629477e-08 1.52948818e-08 1.10615481e-08 1.44843284e-08\n",
      "  3.53177825e-08 1.57591813e-07 1.50595235e-06 1.34171273e-06\n",
      "  1.05151366e-06 2.84345219e-06 9.49622045e-05 3.63409381e-05\n",
      "  3.00732097e-07 1.99864971e-05 1.79489643e-06 1.82636927e-06\n",
      "  4.16649669e-07 2.30155183e-06 1.29078887e-06 2.45341898e-08\n",
      "  4.65994674e-08 1.05439767e-06 1.43271905e-06 5.73672992e-07\n",
      "  1.73541150e-06 3.13285909e-07 5.96431349e-08 2.12511289e-08\n",
      "  1.30176898e-06 5.07474056e-07 2.50550460e-08 2.50023786e-05\n",
      "  7.30082456e-06 2.09071800e-06 4.32291881e-06 1.14166854e-08\n",
      "  7.52213225e-08 7.58781269e-08 4.58987233e-06 2.14411830e-06\n",
      "  1.52639325e-06 2.24621203e-07 4.83777683e-07 1.88895683e-07\n",
      "  1.81363532e-07 7.51096763e-07 1.04359651e-06 1.39950153e-05\n",
      "  1.96601263e-07 2.06422840e-07 2.04754329e-07 2.19413892e-07\n",
      "  1.46665582e-06 6.59672651e-06 2.05036201e-08 1.92409079e-05\n",
      "  1.09275024e-05 6.51914206e-07 1.58950797e-06 2.11583688e-06\n",
      "  1.00152050e-07 1.07917140e-06 3.39816097e-07 8.65990733e-05\n",
      "  2.14866259e-06 1.00428856e-07 1.30951117e-08 1.44370190e-07\n",
      "  8.57350074e-07 2.09865959e-07 1.33162132e-07 1.00373704e-07\n",
      "  5.32157003e-07 9.16043774e-08 1.13184612e-07 3.04356831e-07\n",
      "  7.42937942e-08 1.87023389e-07 2.13186127e-07 4.79610208e-07\n",
      "  1.77710593e-08 1.60546296e-08 3.78269192e-07 1.81976588e-06\n",
      "  4.99358237e-07 2.44398109e-07 6.02238401e-08 1.63932316e-06\n",
      "  6.85055994e-08 4.52321132e-07 4.89609647e-07 1.33030753e-07\n",
      "  2.94983209e-07 2.01529346e-07 1.55190230e-06 1.84257465e-06\n",
      "  2.01850298e-06 6.57944547e-05 3.57173491e-07 3.41405809e-07\n",
      "  8.97266318e-07 5.40157181e-08 1.76526521e-06 5.15816737e-07\n",
      "  4.49783393e-08 1.97550598e-05 6.20652258e-07 7.02454273e-08\n",
      "  2.38003522e-05 1.39243366e-05 2.63369002e-05 4.78839047e-06\n",
      "  4.14804504e-07 4.53090297e-06 4.67140035e-06 5.29741939e-08\n",
      "  4.00948572e-08 7.58705596e-07 6.53469397e-06 3.00004376e-06\n",
      "  3.00940656e-07 5.14743476e-07 3.05878388e-07 1.58705700e-06\n",
      "  1.60891943e-06 3.35118534e-06 3.78136860e-07 4.33970548e-08\n",
      "  1.35661548e-05 3.99894049e-07 4.71810438e-07 2.74811836e-08\n",
      "  2.42621553e-07 2.39517504e-07 1.28777458e-07 4.57050175e-09\n",
      "  6.27261727e-08 5.91237949e-07 2.05782953e-06 6.05107834e-06\n",
      "  2.00518098e-05 1.11164358e-02 3.84374009e-03 6.01093809e-04\n",
      "  1.88789901e-03 2.42536832e-02 1.20122379e-04 1.22320163e-03\n",
      "  1.07217738e-06 3.56952705e-06 2.81780467e-06 9.36859834e-08\n",
      "  2.50848848e-06 3.81759726e-08 8.16663004e-08 6.37059827e-07\n",
      "  2.57515148e-06 4.01744927e-07 5.91398646e-07 3.20209620e-06\n",
      "  2.25726158e-08 8.47368085e-07 7.17977713e-08 2.53619334e-07\n",
      "  2.19366303e-08 3.46481528e-08 6.53036125e-07 1.87587759e-08\n",
      "  1.18272226e-06 6.84375266e-07 5.27888346e-07 4.02178813e-07\n",
      "  1.42276167e-06 2.13350886e-05 4.32095294e-06 2.33515893e-05\n",
      "  1.38563075e-06 2.44808660e-07 9.80173695e-07 6.72493343e-07\n",
      "  1.65853223e-07 1.27469690e-07 3.25838840e-07 2.89231217e-08\n",
      "  8.67897779e-06 5.27342650e-08 1.71958831e-07 1.66482596e-06\n",
      "  5.09589540e-07 9.93657494e-08 3.81832206e-06 2.34147524e-06\n",
      "  3.00715492e-05 9.71004774e-05 1.99729379e-06 5.35044182e-06\n",
      "  2.20351026e-07 9.56446684e-07 1.44690728e-06 2.19995222e-08\n",
      "  4.57921885e-07 9.44118142e-07 5.06106552e-08 7.03294845e-08\n",
      "  5.76321281e-06 3.17485132e-08 2.68307101e-08 1.13048531e-08\n",
      "  2.44670048e-07 6.51890772e-08 8.09090679e-08 1.62114091e-08\n",
      "  1.05309521e-08 4.10793568e-08 1.13824235e-07 3.11850926e-07\n",
      "  5.99793057e-05 3.40918450e-05 6.79157602e-05 4.84364464e-05\n",
      "  9.19863396e-06 9.58136525e-07 2.04494677e-06 4.74771809e-07\n",
      "  6.22180721e-07 5.31284859e-05 5.31974092e-06 7.95750893e-05\n",
      "  2.97350368e-07 1.95909433e-06 1.23205473e-05 3.13245437e-06\n",
      "  5.21702930e-07 1.77708239e-06 4.12304445e-07 1.72573345e-06\n",
      "  5.80419169e-07 2.05547008e-06 8.44216686e-07 2.83528948e-07\n",
      "  2.44520174e-06 2.58447699e-07 1.95226994e-06 1.04570308e-05\n",
      "  5.76587638e-07 1.04392640e-07 1.63779092e-07 2.30805585e-06\n",
      "  5.83306360e-07 2.53735943e-05 4.80166091e-06 9.29045054e-05\n",
      "  1.00896314e-08 6.86798671e-08 9.81743051e-06 3.36585776e-06\n",
      "  1.37073997e-07 5.41418501e-07 5.61650850e-05 1.95624816e-05\n",
      "  3.44069377e-07 2.92164032e-06 1.55889336e-06 6.55679173e-08\n",
      "  1.42762275e-07 1.44554264e-07 1.12519240e-06 4.95031749e-08\n",
      "  3.37003172e-07 1.98706675e-06 4.39024745e-07 9.22064282e-06\n",
      "  1.35530427e-03 1.92972863e-07 9.20748498e-05 3.93726032e-06\n",
      "  1.72453417e-06 4.09146423e-06 3.42476892e-06 2.36683027e-05\n",
      "  8.73649242e-06 6.13684242e-05 4.00933277e-06 1.34036100e-06\n",
      "  7.91872935e-06 7.00379346e-08 1.61317837e-06 8.09170979e-06\n",
      "  9.36892047e-06 5.45301248e-07 8.30245384e-08 2.54091318e-03\n",
      "  2.44948228e-06 5.48682829e-06 1.34946115e-03 8.25108122e-03\n",
      "  1.06395582e-07 7.08966397e-08 1.26814033e-04 9.25966290e-08\n",
      "  1.43706791e-06 9.66924472e-06 1.51334447e-07 3.35813893e-05\n",
      "  1.64303078e-08 1.31816932e-06 1.06460448e-05 2.12070154e-06\n",
      "  1.20722189e-06 1.76123276e-08 1.40855093e-06 9.71652184e-07\n",
      "  4.64549783e-04 1.40788092e-04 1.22131551e-05 8.63070090e-06\n",
      "  5.20199319e-06 8.16505810e-04 3.25369501e-06 9.36259239e-05\n",
      "  1.87050517e-07 2.44307128e-04 1.78218670e-05 5.56690712e-03\n",
      "  4.49095523e-06 1.23257598e-06 8.01982515e-06 1.84196858e-06\n",
      "  1.66888654e-07 1.99837057e-04 1.03196566e-04 7.06456035e-07\n",
      "  2.44529616e-07 1.29825423e-06 1.23529726e-05 5.16925247e-05\n",
      "  8.69222617e-07 3.44851230e-07 1.17149111e-02 1.05621484e-05\n",
      "  1.49393027e-05 1.15385510e-05 7.89807586e-07 9.77034560e-08\n",
      "  1.17317967e-07 6.56723387e-07 1.73157775e-06 2.03508025e-05\n",
      "  1.24754411e-06 1.94153181e-05 3.25618430e-06 1.63377081e-07\n",
      "  2.25165350e-05 9.01686633e-07 1.44955084e-06 8.60777945e-05\n",
      "  3.80728284e-06 6.39008135e-07 4.76181157e-07 5.39544853e-05\n",
      "  8.26642648e-08 2.98889372e-05 3.17770468e-06 7.86742294e-06\n",
      "  2.97660772e-05 6.85548139e-06 8.27682088e-05 2.51635811e-07\n",
      "  4.77570102e-05 1.02859826e-06 1.42292521e-07 3.55570705e-07\n",
      "  8.73209899e-07 1.76397123e-06 1.17705567e-04 5.14019957e-05\n",
      "  1.75431056e-03 2.03964433e-07 2.39078399e-05 9.95540904e-05\n",
      "  4.39357769e-04 5.99127598e-05 3.83897714e-08 2.91861470e-05\n",
      "  2.68973872e-05 3.82561723e-07 6.59845045e-06 2.98404611e-05\n",
      "  3.61040134e-06 4.28391242e-04 5.38986342e-07 1.56564923e-07\n",
      "  2.15219825e-06 8.08772984e-06 6.52176968e-04 2.40313148e-06\n",
      "  8.41086916e-08 6.35088000e-08 1.42207398e-06 3.67288667e-05\n",
      "  8.36943812e-08 2.70411215e-06 4.50239895e-05 1.06144405e-04\n",
      "  2.10037865e-06 4.98968875e-05 1.99792453e-06 7.94013300e-09\n",
      "  2.36359665e-06 9.27845667e-06 8.84356893e-07 1.27589317e-06\n",
      "  3.36474302e-04 2.30667720e-05 1.65708491e-06 2.47868677e-08\n",
      "  7.77536388e-06 3.69639679e-06 2.83335430e-05 7.24676556e-06\n",
      "  1.68656811e-07 4.89922115e-07 3.99182682e-05 2.79491110e-06\n",
      "  3.04296191e-05 3.58995720e-07 2.55564391e-05 2.12973373e-05\n",
      "  6.01091460e-06 2.05558280e-07 1.89737402e-05 1.48367320e-07\n",
      "  2.38802822e-04 5.15159151e-08 8.62167951e-07 5.82689523e-08\n",
      "  1.34113250e-07 1.58282855e-05 5.42070011e-05 2.08514575e-05\n",
      "  1.69414961e-05 2.95268751e-06 3.48213666e-06 6.52371964e-05\n",
      "  1.14084912e-06 2.85204660e-05 1.25774065e-07 1.68855895e-05\n",
      "  4.22028918e-03 3.43543834e-05 3.86489364e-06 3.51974420e-04\n",
      "  5.86557189e-06 5.97920407e-05 1.45697604e-05 3.86172125e-08\n",
      "  2.06279856e-06 3.53954505e-07 7.80016308e-06 1.11024906e-06\n",
      "  2.08958500e-05 8.22081347e-06 5.37149526e-06 1.09963835e-07\n",
      "  1.66273396e-03 2.07003995e-05 2.12922299e-04 1.48836352e-06\n",
      "  7.47226994e-04 8.83024924e-08 2.99865656e-06 7.93642084e-06\n",
      "  9.14233738e-08 1.90535695e-06 1.43302241e-04 6.08644586e-06\n",
      "  2.55780669e-05 3.58595025e-05 8.00579874e-05 1.61239863e-04\n",
      "  2.33941304e-04 1.07462938e-07 4.80032650e-05 3.26262830e-06\n",
      "  1.80373354e-06 6.63290436e-08 7.91666844e-06 7.29322153e-07\n",
      "  3.00974847e-07 1.35914638e-06 5.20677804e-06 2.86657541e-05\n",
      "  1.89023813e-05 5.52885249e-05 3.30587085e-07 4.99858970e-07\n",
      "  5.22516057e-05 1.37106758e-06 8.54434893e-06 5.96174914e-06\n",
      "  1.00706309e-07 4.24880136e-06 2.52348968e-06 1.78181712e-04\n",
      "  6.62725915e-06 1.72438192e-07 2.98358231e-07 1.74123943e-05\n",
      "  2.02557436e-04 3.17528276e-07 3.81149698e-06 6.48059868e-05\n",
      "  1.64117989e-06 1.34675674e-05 1.02269928e-06 5.08880248e-06\n",
      "  3.20664049e-06 6.69847282e-07 8.84009933e-06 2.62420188e-04\n",
      "  1.18112673e-07 2.69710029e-07 7.43024032e-07 2.84204500e-08\n",
      "  2.52041616e-04 1.36001518e-06 2.57864594e-04 1.63675031e-06\n",
      "  1.26690068e-07 1.71595421e-02 9.61175556e-06 3.49598821e-08\n",
      "  1.47448145e-06 8.35488099e-05 1.20042150e-05 3.75982552e-07\n",
      "  1.32439538e-06 5.72193676e-06 2.61672576e-05 4.86092586e-06\n",
      "  2.25528984e-05 8.26727482e-05 1.68990641e-06 5.20501044e-06\n",
      "  2.61663968e-06 1.56296913e-08 6.18447575e-06 1.67865153e-06\n",
      "  1.65045531e-05 6.04102797e-06 8.96061447e-09 1.56651113e-05\n",
      "  9.00809173e-05 3.01692381e-07 4.81175277e-07 2.27091093e-07\n",
      "  7.71937848e-05 2.49368695e-05 9.64850031e-08 2.81821031e-06\n",
      "  9.54154646e-04 2.34074514e-06 4.05347328e-06 4.30031804e-07\n",
      "  1.24649578e-05 8.68365433e-08 1.14816646e-06 1.78710275e-06\n",
      "  1.88623235e-04 2.66421557e-06 1.67430437e-06 1.31787601e-05\n",
      "  7.09720643e-06 2.33607338e-04 5.97529606e-06 2.86574164e-07\n",
      "  2.25420717e-06 9.55843547e-08 9.04936940e-07 4.52875393e-05\n",
      "  1.98884791e-05 3.96331860e-04 2.02094434e-05 2.56189342e-05\n",
      "  2.49809744e-07 6.80751866e-04 3.13888506e-07 2.49521077e-06\n",
      "  8.18420172e-01 1.69731611e-05 3.84013426e-08 5.31316291e-05\n",
      "  7.37494247e-07 1.83133216e-05 4.88098415e-08 6.10149254e-06\n",
      "  5.94820995e-06 7.79335915e-06 1.66791306e-05 1.42399833e-04\n",
      "  8.72510282e-06 5.49055540e-06 1.63009259e-04 9.95578375e-06\n",
      "  2.19914273e-06 4.76027271e-05 1.18628395e-06 1.43193771e-04\n",
      "  2.32754610e-05 1.87927017e-05 2.76208360e-04 9.12100120e-08\n",
      "  3.33606742e-08 6.98809186e-03 5.43442411e-06 5.06172910e-07\n",
      "  6.65266452e-06 1.09992158e-07 1.10041003e-06 1.12513508e-05\n",
      "  2.58974615e-04 2.51233840e-04 3.44914696e-07 2.36236178e-06\n",
      "  1.34179209e-06 1.92299922e-05 1.24274738e-05 1.04622977e-05\n",
      "  2.26715017e-07 1.87737314e-05 3.52153875e-05 9.43540817e-06\n",
      "  5.38023642e-06 2.24878640e-05 3.68970177e-06 1.61977423e-05\n",
      "  1.79630151e-05 1.02757963e-06 8.39575601e-04 8.14903203e-08\n",
      "  1.90736750e-06 1.53329101e-08 1.60597556e-03 4.44979596e-05\n",
      "  3.14747667e-05 4.46863094e-04 1.56266142e-05 1.89271373e-06\n",
      "  9.55896485e-06 5.00668175e-05 6.85340638e-05 1.17332183e-05\n",
      "  3.56745772e-06 1.38602732e-03 5.20263612e-03 4.78681670e-07\n",
      "  1.12074631e-05 3.67750134e-03 1.82363067e-07 1.14990980e-04\n",
      "  1.84178489e-07 2.55139184e-07 8.34501748e-08 5.80972426e-07\n",
      "  2.94798447e-05 1.47924766e-06 3.40051483e-05 4.89016093e-05\n",
      "  3.11062172e-06 3.64342850e-05 1.23100062e-06 2.49639357e-04\n",
      "  1.67810811e-07 1.97264253e-05 1.11639608e-07 3.01635305e-06\n",
      "  3.05122358e-05 2.78658746e-07 3.31070303e-04 3.91447969e-07\n",
      "  4.43902728e-08 1.96971357e-07 6.62552111e-06 1.12532280e-05\n",
      "  6.03475492e-05 1.24281598e-07 3.02405908e-07 8.76470767e-06\n",
      "  3.24662942e-05 4.24918028e-07 5.56935993e-06 4.04139340e-04\n",
      "  3.61157049e-07 1.49442457e-07 1.34704696e-05 3.05394383e-06\n",
      "  4.95949462e-06 9.54247844e-06 2.12041123e-05 8.55287226e-07\n",
      "  4.45182697e-04 8.57764753e-05 1.07134008e-06 8.02695649e-06\n",
      "  1.58506191e-06 1.61503340e-04 2.18021396e-05 1.32648793e-07\n",
      "  7.61192211e-07 2.56702915e-05 4.20657816e-05 1.57868303e-03\n",
      "  6.56259431e-07 4.99250383e-08 3.11798431e-06 3.39302824e-05\n",
      "  6.48118146e-08 1.29756722e-06 1.62638889e-06 9.52211121e-05\n",
      "  4.22851485e-07 1.43502955e-03 2.98407303e-06 5.67672032e-06\n",
      "  5.63609532e-08 1.05342372e-06 5.38134479e-08 1.16294252e-07\n",
      "  2.30812511e-05 4.62473690e-06 1.78867566e-07 1.05607830e-06\n",
      "  2.45085857e-06 3.13018631e-07 6.22138216e-08 3.24417647e-06\n",
      "  7.53754750e-03 7.51724838e-06 6.83105043e-07 3.25558067e-04\n",
      "  1.80079633e-06 6.30256363e-06 1.32739278e-05 1.49516028e-03\n",
      "  2.67272048e-06 9.21149040e-05 5.02101420e-06 5.89714409e-06\n",
      "  1.34067349e-07 4.18896934e-06 4.15834123e-08 5.17660794e-07\n",
      "  2.05689162e-06 2.95578093e-06 3.75721247e-05 1.16142587e-06\n",
      "  2.58960784e-03 1.04349507e-02 7.19459669e-04 6.74951298e-04\n",
      "  4.03233429e-07 8.37012863e-07 7.53584345e-07 2.45408737e-05\n",
      "  7.35438522e-03 4.73839836e-03 3.17757003e-05 3.59560568e-06\n",
      "  1.66656389e-06 6.38351892e-04 8.59417560e-06 4.52746717e-05\n",
      "  1.73067704e-07 4.04336703e-07 1.93901684e-07 1.76187541e-07\n",
      "  6.39575148e-07 2.85184387e-06 1.46416554e-04 1.48137303e-07\n",
      "  1.22390225e-06 1.71047504e-05 1.63802440e-06 1.27660633e-06\n",
      "  1.16363992e-06 9.27756730e-07 9.98967494e-07 1.12994428e-06\n",
      "  7.06459059e-06 1.43865791e-05 2.65286485e-06 7.29045087e-06\n",
      "  2.41822204e-06 2.59264183e-08 1.82336544e-06 2.18519716e-07\n",
      "  1.30522487e-04 1.76897211e-05 1.10726469e-05 2.05790329e-05\n",
      "  1.06127084e-06 6.87614602e-06 2.41176394e-06 1.09599714e-05\n",
      "  3.37002052e-06 1.36603614e-06 2.66477059e-07 5.96478912e-07\n",
      "  2.16120907e-06 2.79205005e-06 5.77770288e-06 1.05855934e-05\n",
      "  8.64263529e-06 4.32868001e-05 1.61075350e-05 7.99482734e-07\n",
      "  3.78658842e-06 2.73686942e-06 4.48969388e-07 2.33369605e-07\n",
      "  4.30937035e-07 3.31469128e-05 2.96737085e-07 6.83341568e-07\n",
      "  3.15053938e-07 1.58257972e-05 2.11649080e-06 1.30235753e-06\n",
      "  1.02317637e-04 3.54746476e-06 8.04548392e-07 6.82296450e-05\n",
      "  3.49794931e-08 1.21078173e-07 3.27648934e-07 2.65837556e-08\n",
      "  2.71589968e-08 2.84983059e-07 2.03682191e-07 3.84574349e-07\n",
      "  1.01080509e-07 1.14095300e-07 6.89514054e-05 5.58378588e-07\n",
      "  5.83749618e-08 3.67837970e-07 3.13408286e-08 1.40995820e-04\n",
      "  5.83445456e-07 2.75092816e-07 3.55593443e-07 9.64058522e-09\n",
      "  1.23825830e-08 6.82685597e-09 3.81874621e-09 1.47295438e-07\n",
      "  2.65338457e-07 3.03541583e-08 7.07914151e-05 2.25412240e-03]]\n"
     ]
    }
   ],
   "source": [
    "latent_vec = vgg19.predict(pic.reshape((1,224,224,3))) #reshape adding number of images\n",
    "\n",
    "print(latent_vec)"
   ]
  },
  {
   "cell_type": "code",
   "execution_count": 43,
   "metadata": {},
   "outputs": [
    {
     "name": "stdout",
     "output_type": "stream",
     "text": [
      "/home/nacho/Desktop/DSR/Tristan second week\r\n"
     ]
    }
   ],
   "source": [
    "!pwd"
   ]
  },
  {
   "cell_type": "code",
   "execution_count": 46,
   "metadata": {},
   "outputs": [
    {
     "name": "stdout",
     "output_type": "stream",
     "text": [
      "_________________________________________________________________\n",
      "Layer (type)                 Output Shape              Param #   \n",
      "=================================================================\n",
      "input_4 (InputLayer)         (None, 224, 224, 3)       0         \n",
      "_________________________________________________________________\n",
      "block1_conv1 (Conv2D)        (None, 224, 224, 64)      1792      \n",
      "_________________________________________________________________\n",
      "block1_conv2 (Conv2D)        (None, 224, 224, 64)      36928     \n",
      "_________________________________________________________________\n",
      "block1_pool (MaxPooling2D)   (None, 112, 112, 64)      0         \n",
      "_________________________________________________________________\n",
      "block2_conv1 (Conv2D)        (None, 112, 112, 128)     73856     \n",
      "_________________________________________________________________\n",
      "block2_conv2 (Conv2D)        (None, 112, 112, 128)     147584    \n",
      "_________________________________________________________________\n",
      "block2_pool (MaxPooling2D)   (None, 56, 56, 128)       0         \n",
      "_________________________________________________________________\n",
      "block3_conv1 (Conv2D)        (None, 56, 56, 256)       295168    \n",
      "_________________________________________________________________\n",
      "block3_conv2 (Conv2D)        (None, 56, 56, 256)       590080    \n",
      "_________________________________________________________________\n",
      "block3_conv3 (Conv2D)        (None, 56, 56, 256)       590080    \n",
      "_________________________________________________________________\n",
      "block3_conv4 (Conv2D)        (None, 56, 56, 256)       590080    \n",
      "_________________________________________________________________\n",
      "block3_pool (MaxPooling2D)   (None, 28, 28, 256)       0         \n",
      "_________________________________________________________________\n",
      "block4_conv1 (Conv2D)        (None, 28, 28, 512)       1180160   \n",
      "_________________________________________________________________\n",
      "block4_conv2 (Conv2D)        (None, 28, 28, 512)       2359808   \n",
      "_________________________________________________________________\n",
      "block4_conv3 (Conv2D)        (None, 28, 28, 512)       2359808   \n",
      "_________________________________________________________________\n",
      "block4_conv4 (Conv2D)        (None, 28, 28, 512)       2359808   \n",
      "_________________________________________________________________\n",
      "block4_pool (MaxPooling2D)   (None, 14, 14, 512)       0         \n",
      "_________________________________________________________________\n",
      "block5_conv1 (Conv2D)        (None, 14, 14, 512)       2359808   \n",
      "_________________________________________________________________\n",
      "block5_conv2 (Conv2D)        (None, 14, 14, 512)       2359808   \n",
      "_________________________________________________________________\n",
      "block5_conv3 (Conv2D)        (None, 14, 14, 512)       2359808   \n",
      "_________________________________________________________________\n",
      "block5_conv4 (Conv2D)        (None, 14, 14, 512)       2359808   \n",
      "_________________________________________________________________\n",
      "block5_pool (MaxPooling2D)   (None, 7, 7, 512)         0         \n",
      "=================================================================\n",
      "Total params: 20,024,384\n",
      "Trainable params: 20,024,384\n",
      "Non-trainable params: 0\n",
      "_________________________________________________________________\n"
     ]
    }
   ],
   "source": [
    "vgg19 = applications.VGG19(include_top = False, input_shape = (224,224,3))\n",
    "vgg19.summary()"
   ]
  },
  {
   "cell_type": "code",
   "execution_count": 47,
   "metadata": {},
   "outputs": [
    {
     "name": "stdout",
     "output_type": "stream",
     "text": [
      "(25088,)\n"
     ]
    }
   ],
   "source": [
    "latent_vec = vgg19.predict(pic.reshape((1,224,224,3))) #reshape adding number of images\n",
    "\n",
    "print(latent_vec.flatten().shape)"
   ]
  },
  {
   "cell_type": "code",
   "execution_count": null,
   "metadata": {},
   "outputs": [],
   "source": [
    "# structure latent space\n",
    "\n"
   ]
  }
 ],
 "metadata": {
  "kernelspec": {
   "display_name": "Python 3",
   "language": "python",
   "name": "python3"
  },
  "language_info": {
   "codemirror_mode": {
    "name": "ipython",
    "version": 3
   },
   "file_extension": ".py",
   "mimetype": "text/x-python",
   "name": "python",
   "nbconvert_exporter": "python",
   "pygments_lexer": "ipython3",
   "version": "3.6.6"
  }
 },
 "nbformat": 4,
 "nbformat_minor": 2
}
