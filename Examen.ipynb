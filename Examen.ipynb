{
 "cells": [
  {
   "cell_type": "markdown",
   "id": "a72fbfcc",
   "metadata": {},
   "source": [
    "## Examen de la unidad didáctica \"Laboratorio de Probabilidad y Estadística\""
   ]
  },
  {
   "cell_type": "markdown",
   "id": "3cab52f7",
   "metadata": {},
   "source": [
    "**1-** ¿Qué entendemos por distribución binomial? ¿Qué dice el *Teorema del límite central*? ¿Qué experimento conoces que sirva como demostración de dicho teorema? Explícalo con tus propias palabras. (2.5 puntos)"
   ]
  },
  {
   "cell_type": "markdown",
   "id": "776ca1e2",
   "metadata": {},
   "source": [
    "**2-** Supongamos que tenemos un dado de 8 caras. ¿Cuál será la probabilidad teórica de sacar un 7? ¿Y la de sacar un 6? Escribe un pequeño programa en el que se realicen 100, 500 y 1000 tiradas y comprueba cuál es la probabilidad experimental de obtener cada una de las caras. (2.5 puntos)"
   ]
  },
  {
   "cell_type": "markdown",
   "id": "12e42c00",
   "metadata": {},
   "source": [
    "**3-** Explica para qué sirve el teorema de Bayes. ¿Cuál es su fórmula? (2.5 puntos)"
   ]
  },
  {
   "cell_type": "markdown",
   "id": "8b841cdf",
   "metadata": {},
   "source": [
    "**4-** Considera un juego consistente en lanzar una moneda al aire. Los resultados posibles son cara y cruz. Si sale cara, se gana 1 EUR y, si sale cruz, se pierde 1,5 EUR. El juego se termina cuando el jugador se queda sin dinero (0 EUR).\n",
    "\n",
    "Escribe una función en Python que simule este juego hasta que el jugador se quede sin dinero (en ese momento, el programa debe enviar el mensaje \"SE ACABÓ EL JUEGO\"). La única variable de la función debe ser el dinero inicial del jugador. (2.5 puntos)"
   ]
  }
 ],
 "metadata": {
  "kernelspec": {
   "display_name": "Python 3",
   "language": "python",
   "name": "python3"
  },
  "language_info": {
   "codemirror_mode": {
    "name": "ipython",
    "version": 3
   },
   "file_extension": ".py",
   "mimetype": "text/x-python",
   "name": "python",
   "nbconvert_exporter": "python",
   "pygments_lexer": "ipython3",
   "version": "3.8.8"
  }
 },
 "nbformat": 4,
 "nbformat_minor": 5
}
